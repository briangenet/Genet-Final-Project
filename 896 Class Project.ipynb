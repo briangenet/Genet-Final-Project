{
 "cells": [
  {
   "cell_type": "markdown",
   "id": "19e9fc31",
   "metadata": {},
   "source": [
    "Winter Season Shifting in the Northeast?"
   ]
  },
  {
   "cell_type": "markdown",
   "id": "cbd36914",
   "metadata": {},
   "source": [
    "This study is set to investigate if the 'Winter Season' is shifting to later in the year with the analysis of Temperature, SWE, and Streamflow. "
   ]
  },
  {
   "cell_type": "markdown",
   "id": "ce9305c7",
   "metadata": {},
   "source": [
    "Is the winter season shifting later in the year causing a later peak of minimum temperature, peak SWE nd later onset of streamflow in the spring due to snow melt? Is it possible that the later onset of the winter season is affecting streamflow in the fall before the next onset of winter?"
   ]
  },
  {
   "cell_type": "markdown",
   "id": "be23c052",
   "metadata": {},
   "source": [
    "The Hubbard Brook Experiemntal forest is located in southwestern part of the white mountains in New Hampshire. This area is a 3,037 hectacre valley that contains small water sheds. The area is dominated northern hardwood forests  with spruce-fir forest at higher elevations. The area is filled with smaller streams that lead into the Pemigewasset River south of the experimental forest. "
   ]
  },
  {
   "cell_type": "markdown",
   "id": "f0b23461",
   "metadata": {},
   "source": [
    "The data sets collected and used for research include Daily Temperature (min, max, ave), Daily Streamflow and weekly SWE values. "
   ]
  },
  {
   "cell_type": "markdown",
   "id": "5e984148",
   "metadata": {},
   "source": [
    "Intial parameters and Imports"
   ]
  },
  {
   "cell_type": "code",
   "execution_count": null,
   "id": "ebd5a254",
   "metadata": {},
   "outputs": [],
   "source": [
    "import pandas as pd\n",
    "from matplotlib import pyplot as plt\n",
    "import numpy as np \n",
    "from scipy import stats\n",
    "import os\n",
    "\n",
    "#%% Specify Parameters\n",
    "\n",
    "#Discharge Data\n",
    "infileq_name = 'Streamflow.csv'\n",
    "\n",
    "#Temperature Data\n",
    "infilet_name = 'Temperature.csv'\n",
    "\n",
    "#SWE data\n",
    "infileswe_name = 'SWE.csv'\n",
    "\n",
    "#Title for Figure\n",
    "Fig_title = 'Hubbard Brook Experimental Forest'\n",
    "\n",
    "#Begining of Study Period\n",
    "start_date = '1956-01-01'\n",
    "\n",
    "#End of Study Period\n",
    "end_date = '2022-10-17'"
   ]
  },
  {
   "cell_type": "markdown",
   "id": "9e100a02",
   "metadata": {},
   "source": [
    "Loading data into program and naming data frames"
   ]
  },
  {
   "cell_type": "code",
   "execution_count": null,
   "id": "789c9a92",
   "metadata": {},
   "outputs": [],
   "source": [
    "#%%Creating Dataframe for Streamflow Data\n",
    "\n",
    "#Load Data\n",
    "data_q = pd.read_csv(infileq_name, parse_dates=['DATE'], index_col=['DATE'])\n",
    "\n",
    "#Drop Colums\n",
    "data_q.drop(columns = {'WS' , 'Flag'}, inplace = True)\n",
    "\n",
    "#Rename Discharge\n",
    "data_q=data_q.rename(columns={'Streamflow' : 'discharge_cfs'})\n",
    "\n",
    "#%%Creating Dataframe for Temperature Data\n",
    "\n",
    "#Load Data\n",
    "data_t = pd.read_csv(infilet_name, parse_dates=['date'], index_col=['date'])\n",
    "\n",
    "#Drop Colums\n",
    "data_t.drop(columns = {\"STA\" , 'Flag'}, inplace = True)\n",
    "\n",
    "#%%Creating Dataframe for SWE Data\n",
    "\n",
    "#Load Data\n",
    "data_swe = pd.read_csv(infileswe_name, parse_dates=['Date'], index_col=['Date'])\n",
    "\n",
    "#Drop Colums\n",
    "data_swe.drop(columns = {\"frost_depth\",\"frost_pct\",\"WINTER\",\"Site\",\"snow_depth\"}, inplace = True)"
   ]
  },
  {
   "cell_type": "markdown",
   "id": "7cd1b0b9",
   "metadata": {},
   "source": [
    "Creating Plots for raw datap"
   ]
  },
  {
   "cell_type": "code",
   "execution_count": null,
   "id": "aad19b88",
   "metadata": {},
   "outputs": [],
   "source": [
    "#%% Plotting Raw Time Series Discharge\n",
    "\n",
    "# Create plot to display time series data\n",
    "fig, ax = plt.subplots()\n",
    "\n",
    "\n",
    "# Plot discharge data series\n",
    "ax.plot(data_q['discharge_cfs'],        # x = 1st series, y = 2nd series)\n",
    "        'b-',                            # blue line \n",
    "        label = 'Discharge')             # series label for legend\n",
    "\n",
    "# Add plot components \n",
    "ax.set_xlabel('Date')                    # x-axis label \n",
    "ax.set_ylabel('cfs')                  # y-axis label\n",
    "ax.set_title('Hubbard Brook Discharge')           # figure title\n",
    "ax.legend()                                   # legend\n",
    "\n",
    "# Optional command to make x-tick labels disagonal to avoid overlap\n",
    "fig.autofmt_xdate()\n",
    "\n",
    "#%% Plotting Raw Time Series Temperature\n",
    "\n",
    "# Create plot to display time series data\n",
    "fig, ax = plt.subplots()\n",
    "\n",
    "\n",
    "# Plot discharge data series\n",
    "ax.plot(data_t['AVE'],        # x = 1st series, y = 2nd series)\n",
    "       'b-',                            # blue line \n",
    "       label = 'Temperature')             # series label for legend\n",
    "\n",
    "# Add plot components \n",
    "ax.set_xlabel('Date')                    # x-axis label \n",
    "ax.set_ylabel('Temperature')                  # y-axis label\n",
    "ax.set_title('Hubbard Brook Temperature')           # figure title\n",
    "ax.legend()                                   # legend\n",
    "\n",
    "# Optional command to make x-tick labels disagonal to avoid overlap\n",
    "fig.autofmt_xdate()\n",
    "\n",
    "#%% Plotting Raw Time Series SWE\n",
    "\n",
    "# Create plot to display time series data\n",
    "fig, ax = plt.subplots()\n",
    "\n",
    "\n",
    "# Plot discharge data series\n",
    "ax.plot(data_swe['swe'],        # x = 1st series, y = 2nd series)\n",
    "        'b-',                            # blue line \n",
    "        label = 'SWE (in)')             # series label for legend\n",
    "\n",
    "# Add plot components \n",
    "ax.set_xlabel('Date')                    # x-axis label \n",
    "ax.set_ylabel('SWE (in)')                  # y-axis label\n",
    "ax.set_title('Hubbard Brook SWE')           # figure title\n",
    "ax.legend()                                   # legend\n",
    "\n",
    "# Optional command to make x-tick labels disagonal to avoid overlap\n",
    "fig.autofmt_xdate()"
   ]
  },
  {
   "cell_type": "markdown",
   "id": "a9eca55b",
   "metadata": {},
   "source": [
    "Plotting centriods to find any evidence of shifting"
   ]
  },
  {
   "cell_type": "code",
   "execution_count": null,
   "id": "f1aec63a",
   "metadata": {
    "collapsed": true
   },
   "outputs": [],
   "source": [
    "#code will be put in this cell in the future"
   ]
  },
  {
   "cell_type": "markdown",
   "id": "b28e5406",
   "metadata": {},
   "source": [
    "Plotting linear regression analysis for further evidence of shifting"
   ]
  },
  {
   "cell_type": "code",
   "execution_count": null,
   "id": "8e31763e",
   "metadata": {},
   "outputs": [],
   "source": [
    "#code will be put in this cell in the future"
   ]
  },
  {
   "cell_type": "markdown",
   "id": "7f203409",
   "metadata": {},
   "source": [
    "Discussion\n",
    "From this analysis it was shown that...\n",
    "From the centroid plots it was evident that...\n",
    "Linear regression and p-values confirmed that...\n",
    "Overall the information in all the figures ... there is a slight ..."
   ]
  }
 ],
 "metadata": {
  "kernelspec": {
   "display_name": "Python 3 (ipykernel)",
   "language": "python",
   "name": "python3"
  },
  "language_info": {
   "codemirror_mode": {
    "name": "ipython",
    "version": 3
   },
   "file_extension": ".py",
   "mimetype": "text/x-python",
   "name": "python",
   "nbconvert_exporter": "python",
   "pygments_lexer": "ipython3",
   "version": "3.9.16"
  }
 },
 "nbformat": 4,
 "nbformat_minor": 5
}
