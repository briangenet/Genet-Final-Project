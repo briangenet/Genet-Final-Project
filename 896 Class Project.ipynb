{
 "cells": [
  {
   "cell_type": "markdown",
   "id": "19e9fc31",
   "metadata": {},
   "source": [
    "Winter Season Shifting in the Northeast?"
   ]
  },
  {
   "cell_type": "markdown",
   "id": "cbd36914",
   "metadata": {},
   "source": [
    "This study is set to investigate if the 'Winter Season' is shifting to later in the year with the analysis of Temperature, SWE, and Streamflow. "
   ]
  },
  {
   "cell_type": "markdown",
   "id": "ce9305c7",
   "metadata": {},
   "source": [
    "Is the winter season shifting later in the year causing a later peak of minimum temperature, peak SWE nd later onset of streamflow in the spring due to snow melt? Is it possible that the later onset of the winter season is affecting streamflow in the fall before the next onset of winter?"
   ]
  },
  {
   "cell_type": "markdown",
   "id": "be23c052",
   "metadata": {},
   "source": [
    "The Hubbard Brook Experiemntal forest is located in southwestern part of the white mountains in New Hampshire. This area is a 3,037 hectacre valley that contains small water sheds. The area is dominated northern hardwood forests  with spruce-fir forest at higher elevations. The area is filled with smaller streams that lead into the Pemigewasset River south of the experimental forest. "
   ]
  },
  {
   "cell_type": "markdown",
   "id": "f0b23461",
   "metadata": {},
   "source": [
    "The data sets collected and used for research include Daily Temperature (min, max, ave), Daily Streamflow and weekly SWE values. "
   ]
  },
  {
   "cell_type": "markdown",
   "id": "5e984148",
   "metadata": {},
   "source": [
    "Intial parameters and Imports"
   ]
  },
  {
   "cell_type": "code",
   "execution_count": null,
   "id": "ebd5a254",
   "metadata": {},
   "outputs": [],
   "source": [
    "import pandas as pd\n",
    "from matplotlib import pyplot as plt\n",
    "import numpy as np \n",
    "from scipy import stats\n",
    "import os\n",
    "\n",
    "#%% Specify Parameters\n",
    "\n",
    "#Discharge Data\n",
    "infileq_name = 'Streamflow.csv'\n",
    "\n",
    "#Temperature Data\n",
    "infilet_name = 'Temperature.csv'\n",
    "\n",
    "#SWE data\n",
    "infileswe_name = 'SWE.csv'\n",
    "\n",
    "#Title for Figure\n",
    "Fig_title = 'Hubbard Brook Experimental Forest'\n",
    "\n",
    "#Begining of Study Period\n",
    "start_date = '1956-01-01'\n",
    "\n",
    "#End of Study Period\n",
    "end_date = '2022-10-17'"
   ]
  },
  {
   "cell_type": "markdown",
   "id": "9e100a02",
   "metadata": {},
   "source": [
    "Loading data into program and naming data frames"
   ]
  },
  {
   "cell_type": "code",
   "execution_count": null,
   "id": "789c9a92",
   "metadata": {},
   "outputs": [],
   "source": [
    "#%%Creating Dataframe for Streamflow Data\n",
    "\n",
    "#Load Data\n",
    "data_q = pd.read_csv(infileq_name, parse_dates=['DATE'], index_col=['DATE'])\n",
    "\n",
    "#Drop Colums\n",
    "data_q.drop(columns = {'WS' , 'Flag'}, inplace = True)\n",
    "\n",
    "#Rename Discharge\n",
    "data_q=data_q.rename(columns={'Streamflow' : 'discharge_cfs'})\n",
    "\n",
    "#%%Creating Dataframe for Temperature Data\n",
    "\n",
    "#Load Data\n",
    "data_t = pd.read_csv(infilet_name, parse_dates=['date'], index_col=['date'])\n",
    "\n",
    "#Drop Colums\n",
    "data_t.drop(columns = {\"STA\" , 'Flag'}, inplace = True)\n",
    "\n",
    "#%%Creating Dataframe for SWE Data\n",
    "\n",
    "#Load Data\n",
    "data_swe = pd.read_csv(infileswe_name, parse_dates=['Date'], index_col=['Date'])\n",
    "\n",
    "#Drop Colums\n",
    "data_swe.drop(columns = {\"frost_depth\",\"frost_pct\",\"WINTER\",\"Site\",\"snow_depth\"}, inplace = True)\n",
    "\n",
    "#Replace Missing Falues\n",
    "data_swe.replace(-99,np.nan, inplace=True)\n",
    "\n",
    "#Filling in missing nans\n",
    "data_swe['swe'] = data_swe['swe'].fillna(data_swe['swe'])"
   ]
  },
  {
   "cell_type": "markdown",
   "id": "7cd1b0b9",
   "metadata": {},
   "source": [
    "Creating Plots for raw datap"
   ]
  },
  {
   "cell_type": "code",
   "execution_count": null,
   "id": "aad19b88",
   "metadata": {},
   "outputs": [],
   "source": [
    "#%% Plotting Raw Time Series Discharge\n",
    "\n",
    "# Create plot to display time series data\n",
    "fig, ax = plt.subplots()\n",
    "\n",
    "\n",
    "# Plot discharge data series\n",
    "ax.plot(data_q['discharge_cfs'],        # x = 1st series, y = 2nd series)\n",
    "        'b-',                            # blue line \n",
    "        label = 'Discharge')             # series label for legend\n",
    "\n",
    "# Add plot components \n",
    "ax.set_xlabel('Date')                    # x-axis label \n",
    "ax.set_ylabel('cfs')                  # y-axis label\n",
    "ax.set_title('Hubbard Brook Discharge')           # figure title\n",
    "ax.legend()                                   # legend\n",
    "\n",
    "# Optional command to make x-tick labels disagonal to avoid overlap\n",
    "fig.autofmt_xdate()\n",
    "\n",
    "#%% Plotting Raw Time Series Temperature\n",
    "\n",
    "# Create plot to display time series data\n",
    "fig, ax = plt.subplots()\n",
    "\n",
    "\n",
    "# Plot discharge data series\n",
    "ax.plot(data_t['AVE'],        # x = 1st series, y = 2nd series)\n",
    "       'b-',                            # blue line \n",
    "       label = 'Temperature')             # series label for legend\n",
    "\n",
    "# Add plot components \n",
    "ax.set_xlabel('Date')                    # x-axis label \n",
    "ax.set_ylabel('Temperature')                  # y-axis label\n",
    "ax.set_title('Hubbard Brook Temperature')           # figure title\n",
    "ax.legend()                                   # legend\n",
    "\n",
    "# Optional command to make x-tick labels disagonal to avoid overlap\n",
    "fig.autofmt_xdate()\n",
    "\n",
    "#%% Plotting Raw Time Series SWE\n",
    "\n",
    "# Create plot to display time series data\n",
    "fig, ax = plt.subplots()\n",
    "\n",
    "\n",
    "# Plot discharge data series\n",
    "ax.plot(data_swe['swe'],        # x = 1st series, y = 2nd series)\n",
    "        'b-',                            # blue line \n",
    "        label = 'SWE (in)')             # series label for legend\n",
    "\n",
    "# Add plot components \n",
    "ax.set_xlabel('Date')                    # x-axis label \n",
    "ax.set_ylabel('SWE (in)')                  # y-axis label\n",
    "ax.set_title('Hubbard Brook SWE')           # figure title\n",
    "ax.legend()                                   # legend\n",
    "\n",
    "# Optional command to make x-tick labels disagonal to avoid overlap\n",
    "fig.autofmt_xdate()"
   ]
  },
  {
   "cell_type": "markdown",
   "id": "4bb0d8a4",
   "metadata": {},
   "source": [
    "Making SWE data Useful"
   ]
  },
  {
   "cell_type": "code",
   "execution_count": null,
   "id": "f0099f12",
   "metadata": {},
   "outputs": [],
   "source": [
    "#%% SWE Diff\n",
    "data_swe['swe_diff']=data_swe['swe'].diff()"
   ]
  },
  {
   "cell_type": "markdown",
   "id": "73003f9d",
   "metadata": {},
   "source": [
    "Finding Averages for Months"
   ]
  },
  {
   "cell_type": "code",
   "execution_count": null,
   "id": "afc6f02d",
   "metadata": {},
   "outputs": [],
   "source": [
    "#%% Adding Month and water year column\n",
    "#Adding columns representing month for data\n",
    "data_q['month'] = data_q.index.month\n",
    "data_swe['month'] = data_swe.index.month\n",
    "data_t['month'] = data_t.index.month\n",
    "\n",
    "#Adding column to assosiate month with water year\n",
    "data_q['wateryear'] = data_q.index.year\n",
    "data_swe['wateryear'] = data_swe.index.year\n",
    "data_t['wateryear'] = data_t.index.year\n",
    "\n",
    "#Setting Water year to actual water year\n",
    "data_q.loc[data_q['month']>9,'wateryear'] = data_q.loc[data_q['month']>9,'wateryear'] + 1\n",
    "data_swe.loc[data_swe['month']>9,'wateryear'] = data_swe.loc[data_swe['month']>9,'wateryear'] + 1\n",
    "data_t.loc[data_t['month']>9,'wateryear'] = data_t.loc[data_t['month']>9,'wateryear'] + 1\n",
    "\n",
    "#%% Taking Averages for each month\n",
    "\n",
    "#New Dataframe for Monthly Streamflow data\n",
    "data_q_monthly = data_q.groupby(['wateryear','month'], as_index=False)['discharge_cfs'].mean()\n",
    "\n",
    "#New Dataframe for Monthly Temp data\n",
    "data_t_monthly = data_t.groupby(['wateryear','month'], as_index=False)['AVE'].mean()\n",
    "\n",
    "#New Dataframe for Monthly SWE data\n",
    "data_swe_monthly = data_swe.groupby(['wateryear','month'], as_index=False)['swe'].mean()"
   ]
  },
  {
   "cell_type": "markdown",
   "id": "7dca58e2",
   "metadata": {},
   "source": [
    "New Data Frames to catagorize data by Month and Water Year (For Loop in furture)"
   ]
  },
  {
   "cell_type": "code",
   "execution_count": null,
   "id": "07b5e6a5",
   "metadata": {},
   "outputs": [],
   "source": [
    "#%% Making New Dataframes to plot months to find trends in Temp SWE and Streamflow\n",
    "\n",
    "#New Dataframe for Janurary SWE\n",
    "swe_jan = data_swe_monthly.loc[data_swe_monthly['month']==1,['wateryear','swe']]\n",
    "#Setting Water Year as index for Janurary dataframe\n",
    "#swe_jan = swe_jan.set_index('wateryear')\n",
    "\n",
    "#Dataframe for Feburary SWE\n",
    "swe_feb = data_swe_monthly.loc[data_swe_monthly['month']==2,['wateryear','swe']]\n",
    "#Setting Water Year as index for Feburary dataframe\n",
    "#swe_feb = swe_feb.set_index('wateryear')\n",
    "\n",
    "#Dataframe for Temperature\n",
    "t_jan = data_t_monthly.loc[data_t_monthly['month']==1,['wateryear','AVE']]\n",
    "\n",
    "#Setting Water Year as index for Janurary dataframe\n",
    "#t_jan = t_jan.set_index('wateryear')\n",
    "\n",
    "#Dataframe for Streamflow\n",
    "q_jan = data_q_monthly.loc[data_q_monthly['month']==1,['wateryear','discharge_cfs']]\n",
    "\n",
    "#Setting Water Year as index for Janurary dataframe\n",
    "#q_jan = q_jan.set_index('wateryear')"
   ]
  },
  {
   "cell_type": "markdown",
   "id": "a9eca55b",
   "metadata": {},
   "source": [
    "Plotting Scatter Plots for Temp, SWE and Streamflow (For loop will be used in the furture to plot all months required)"
   ]
  },
  {
   "cell_type": "code",
   "execution_count": null,
   "id": "f1aec63a",
   "metadata": {
    "collapsed": true
   },
   "outputs": [],
   "source": [
    "#%% Creating scatter plots for SWE\n",
    "\n",
    "#Creating Plot SWE\n",
    "fig1, ax1 = plt.subplots()\n",
    "plt.scatter(x=swe_jan['wateryear'], y=swe_jan['swe'], label = 'Average SWE for Janurary')\n",
    "\n",
    "#Legend\n",
    "ax1.legend()\n",
    "\n",
    "#Labels\n",
    "ax1.set_xlabel('Year')\n",
    "ax1.set_ylabel('Average SWE')\n",
    "ax1.set_title('Experimental Forest, NH')\n",
    "\n",
    "#%% Creating scatter plots for Temp\n",
    "\n",
    "#Creating Plot Temp\n",
    "fig1, ax1 = plt.subplots()\n",
    "plt.scatter(x=t_jan['wateryear'], y=t_jan['AVE'], label = 'Average Temp for Janurary')\n",
    "\n",
    "#Legend\n",
    "ax1.legend()\n",
    "\n",
    "#Labels\n",
    "ax1.set_xlabel('Year')\n",
    "ax1.set_ylabel('Temperature')\n",
    "ax1.set_title('Experimental Forest, NH')\n",
    "\n",
    "#%% Creating scatter plots for Streamflow\n",
    "\n",
    "#Creating Plot Streamflow\n",
    "fig1, ax1 = plt.subplots()\n",
    "plt.scatter(x=q_jan['wateryear'], y=q_jan['discharge_cfs'], label = 'Average Streamflow for Janurary')\n",
    "\n",
    "#Legend\n",
    "ax1.legend()\n",
    "\n",
    "#Labels\n",
    "ax1.set_xlabel('Year')\n",
    "ax1.set_ylabel('Streamflow L/s')\n",
    "ax1.set_title('Experimental Forest, NH')"
   ]
  },
  {
   "cell_type": "markdown",
   "id": "b28e5406",
   "metadata": {},
   "source": [
    "Plotting linear regression analysis for further evidence of shifting"
   ]
  },
  {
   "cell_type": "code",
   "execution_count": null,
   "id": "8e31763e",
   "metadata": {},
   "outputs": [],
   "source": [
    "#%% Linear Regressions\n",
    "#Create function\n",
    "def regressplot(time_series,data_series, y_label, figtitle):\n",
    "    #Calculate parametric linear regression values\n",
    "    lsq_coeff = stats.linregress(time_series,data_series)\n",
    "    \n",
    "    #Create plot and show time series of input data series\n",
    "    fig, ax1 = plt.subplots()\n",
    "    ax1.plot(data_series, 'k.')\n",
    "    #Parametric best fit line\n",
    "    ax1.plot(time_series, lsq_coeff.intercept + lsq_coeff.slope *\n",
    "           time_series, 'b-', label='Linear regression')\n",
    "    #Annotation Placement\n",
    "    xx = ax1.get_xlim()\n",
    "    yy = ax1.get_ylim()\n",
    "    \n",
    "    #Display least squares parametric slope and correlation on graph\n",
    "    ax1.annotate(f'Least-Squares Slope = {lsq_coeff.slope:.4f} +/- {2*lsq_coeff.stderr:.4f}',\n",
    "                xy=(xx[1]-0.05*(xx[1]-xx[0]), yy[0] + 0.18*(yy[1]-yy[0])),\n",
    "                horizontalalignment='right')\n",
    "    ax1.annotate(f'Least-squares correlation = {lsq_coeff.rvalue:.4f}; p = {lsq_coeff.pvalue:.4f}',\n",
    "                xy=(xx[1]-0.05*(xx[1]-xx[0]), yy[0] + 0.13*(yy[1]-yy[0])),\n",
    "                horizontalalignment='right')\n",
    "    ax1.set_title(figtitle)\n",
    "    ax1.set_ylabel(y_label)\n",
    "    ax1.legend(loc='upper center')\n",
    "    plt.show()"
   ]
  },
  {
   "cell_type": "markdown",
   "id": "7f203409",
   "metadata": {},
   "source": [
    "Discussion\n",
    "From this analysis it was shown that...\n",
    "From the centroid plots it was evident that...\n",
    "Linear regression and p-values confirmed that...\n",
    "Overall the information in all the figures ... there is a slight ..."
   ]
  }
 ],
 "metadata": {
  "kernelspec": {
   "display_name": "Python 3 (ipykernel)",
   "language": "python",
   "name": "python3"
  },
  "language_info": {
   "codemirror_mode": {
    "name": "ipython",
    "version": 3
   },
   "file_extension": ".py",
   "mimetype": "text/x-python",
   "name": "python",
   "nbconvert_exporter": "python",
   "pygments_lexer": "ipython3",
   "version": "3.9.16"
  }
 },
 "nbformat": 4,
 "nbformat_minor": 5
}
